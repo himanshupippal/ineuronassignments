{
 "cells": [
  {
   "cell_type": "code",
   "execution_count": 1,
   "id": "49abb718-8992-435e-a43a-b7b9ec5b9bd9",
   "metadata": {},
   "outputs": [],
   "source": [
    "# 1.\tWrite a Python Program to Find LCM?\n",
    "# 2.\tWrite a Python Program to Find HCF?\n",
    "# 3.\tWrite a Python Program to Convert Decimal to Binary, Octal and Hexadecimal?\n",
    "# 4.\tWrite a Python Program To Find ASCII value of a character?\n",
    "# 5.\tWrite a Python Program to Make a Simple Calculator with 4 basic mathematical operations?\n"
   ]
  },
  {
   "cell_type": "code",
   "execution_count": 6,
   "id": "f0335ed8-69de-4b5c-86f9-8f3e43de787a",
   "metadata": {},
   "outputs": [
    {
     "name": "stdin",
     "output_type": "stream",
     "text": [
      "Enter the first number:  12\n",
      "Enter the second number:  6\n"
     ]
    },
    {
     "name": "stdout",
     "output_type": "stream",
     "text": [
      "The LCM of 12 and 6 is 12\n",
      "The LCM of 12 and 6 is 6\n"
     ]
    }
   ],
   "source": [
    "# 1.\tWrite a Python Program to Find LCM?\n",
    "def gcd(a, b):\n",
    "    while b != 0:\n",
    "        temp=a\n",
    "        a=b\n",
    "        b=temp%b\n",
    "    return a\n",
    "\n",
    "def lcm(a, b):\n",
    "    return abs(a * b) // gcd(a, b)\n",
    "\n",
    "if __name__ == \"__main__\":\n",
    "    num1 = int(input(\"Enter the first number: \"))\n",
    "    num2 = int(input(\"Enter the second number: \"))\n",
    "    result = lcm(num1, num2)\n",
    "    print(f\"The LCM of {num1} and {num2} is {result}\")\n",
    "\n",
    "\n"
   ]
  },
  {
   "cell_type": "code",
   "execution_count": 7,
   "id": "8fc52acd-20f4-4e56-afc3-c418d36ed6fb",
   "metadata": {},
   "outputs": [
    {
     "name": "stdin",
     "output_type": "stream",
     "text": [
      "Enter the first number:  12\n",
      "Enter the second number:  2\n"
     ]
    },
    {
     "name": "stdout",
     "output_type": "stream",
     "text": [
      "The HCF of 12 and 2 is 2\n"
     ]
    }
   ],
   "source": [
    "# 2.\tWrite a Python Program to Find HCF?\n",
    "def HCF(a, b):\n",
    "    while b != 0:\n",
    "        temp=a\n",
    "        a=b\n",
    "        b=temp%b\n",
    "    return a\n",
    "if __name__ == \"__main__\":\n",
    "    num1 = int(input(\"Enter the first number: \"))\n",
    "    num2 = int(input(\"Enter the second number: \"))\n",
    "    result1 = HCF(num1, num2)\n",
    "    print(f\"The HCF of {num1} and {num2} is {result1}\")"
   ]
  },
  {
   "cell_type": "code",
   "execution_count": 3,
   "id": "1dbffa64-4dfc-4179-bf2a-9aca50c4fda1",
   "metadata": {},
   "outputs": [
    {
     "name": "stdin",
     "output_type": "stream",
     "text": [
      "Enter a decimal number:  55\n"
     ]
    },
    {
     "name": "stdout",
     "output_type": "stream",
     "text": [
      "Binary representation: 110111\n",
      "Octal representation: 67\n",
      "Hexadecimal representation: 37\n"
     ]
    }
   ],
   "source": [
    "# 3.\tWrite a Python Program to Convert Decimal to Binary, Octal and Hexadecimal?\n",
    "def decimal_to_binary(number):\n",
    "    binary = \"\"\n",
    "    while number > 0:\n",
    "        binary = str(number % 2) + binary\n",
    "        number //= 2\n",
    "    return binary if binary else \"0\"\n",
    "\n",
    "def decimal_to_octal(number):\n",
    "    octal = \"\"\n",
    "    while number > 0:\n",
    "        octal = str(number % 8) + octal\n",
    "        number //= 8\n",
    "    return octal if octal else \"0\"\n",
    "\n",
    "def decimal_to_hexadecimal(number):\n",
    "    hex_chars = \"0123456789ABCDEF\"\n",
    "    hexadecimal = \"\"\n",
    "    while number > 0:\n",
    "        hexadecimal = hex_chars[number % 16] + hexadecimal\n",
    "        number //= 16\n",
    "    return hexadecimal if hexadecimal else \"0\"\n",
    "\n",
    "if __name__ == \"__main__\":\n",
    "        decimal_number = int(input(\"Enter a decimal number: \"))\n",
    "        binary = decimal_to_binary(decimal_number)\n",
    "        octal = decimal_to_octal(decimal_number)\n",
    "        hexadecimal = decimal_to_hexadecimal(decimal_number)\n",
    "        print(f\"Binary representation: {binary}\")\n",
    "        print(f\"Octal representation: {octal}\")\n",
    "        print(f\"Hexadecimal representation: {hexadecimal}\")\n",
    "\n"
   ]
  },
  {
   "cell_type": "code",
   "execution_count": 7,
   "id": "b8a2e9ed-a7df-4cb3-a8da-3dc5ee836ff0",
   "metadata": {},
   "outputs": [
    {
     "name": "stdin",
     "output_type": "stream",
     "text": [
      "Enter a character:  a\n"
     ]
    },
    {
     "name": "stdout",
     "output_type": "stream",
     "text": [
      "The ASCII value of 'a' is: 97\n"
     ]
    }
   ],
   "source": [
    "# 4.\tWrite a Python Program To Find ASCII value of a character?\n",
    "def find_ascii_value(char):\n",
    "    return ord(char)\n",
    "\n",
    "if __name__ == \"__main__\":\n",
    "    character = input(\"Enter a character: \")\n",
    "    if len(character) != 1:\n",
    "        print(\"Please enter a single character.\")\n",
    "    else:\n",
    "        ascii_value = find_ascii_value(character)\n",
    "        print(f\"The ASCII value of '{character}' is: {ascii_value}\")\n",
    "\n"
   ]
  },
  {
   "cell_type": "code",
   "execution_count": 9,
   "id": "e56b7e56-07f9-4434-989f-aef72e5e97fe",
   "metadata": {},
   "outputs": [
    {
     "name": "stdout",
     "output_type": "stream",
     "text": [
      "Select operation:\n",
      "1. Addition\n",
      "2. Subtraction\n",
      "3. Multiplication\n",
      "4. Division\n"
     ]
    },
    {
     "name": "stdin",
     "output_type": "stream",
     "text": [
      "Enter choice (1/2/3/4):  2\n",
      "Enter first number:  1\n",
      "Enter second number:  2\n"
     ]
    },
    {
     "name": "stdout",
     "output_type": "stream",
     "text": [
      "1.0 - 2.0 = -1.0\n"
     ]
    }
   ],
   "source": [
    "# 5.\tWrite a Python Program to Make a Simple Calculator with 4 basic mathematical operations?\n",
    "def add(x, y):\n",
    "    return x + y\n",
    "\n",
    "def subtract(x, y):\n",
    "    return x - y\n",
    "\n",
    "def multiply(x, y):\n",
    "    return x * y\n",
    "\n",
    "def divide(x, y):\n",
    "    if y == 0:\n",
    "        raise ValueError(\"Cannot divide by zero.\")\n",
    "    return x / y\n",
    "\n",
    "if __name__ == \"__main__\":\n",
    "    print(\"Select operation:\")\n",
    "    print(\"1. Addition\")\n",
    "    print(\"2. Subtraction\")\n",
    "    print(\"3. Multiplication\")\n",
    "    print(\"4. Division\")\n",
    "\n",
    "    choice = int(input(\"Enter choice (1/2/3/4): \"))\n",
    "    if choice not in (1, 2, 3, 4):\n",
    "        print(\"Invalid choice. Please select a valid option.\")\n",
    "    num1 = float(input(\"Enter first number: \"))\n",
    "    num2 = float(input(\"Enter second number: \"))\n",
    "\n",
    "    if choice == 1:\n",
    "        result = add(num1, num2)\n",
    "        operation = \"+\"\n",
    "    elif choice == 2:\n",
    "        result = subtract(num1, num2)\n",
    "        operation = \"-\"\n",
    "    elif choice == 3:\n",
    "        result = multiply(num1, num2)\n",
    "        operation = \"*\"\n",
    "    elif choice == 4:\n",
    "        result = divide(num1, num2)\n",
    "        operation = \"/\"\n",
    "    print(f\"{num1} {operation} {num2} = {result}\")\n",
    "\n",
    "\n",
    "            \n",
    "        "
   ]
  }
 ],
 "metadata": {
  "kernelspec": {
   "display_name": "Python 3 (ipykernel)",
   "language": "python",
   "name": "python3"
  },
  "language_info": {
   "codemirror_mode": {
    "name": "ipython",
    "version": 3
   },
   "file_extension": ".py",
   "mimetype": "text/x-python",
   "name": "python",
   "nbconvert_exporter": "python",
   "pygments_lexer": "ipython3",
   "version": "3.10.6"
  }
 },
 "nbformat": 4,
 "nbformat_minor": 5
}
