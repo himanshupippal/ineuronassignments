{
 "cells": [
  {
   "cell_type": "raw",
   "id": "46df4bbe-0cf2-40f8-8b3f-545f8316fd31",
   "metadata": {},
   "source": [
    "1. Write a Python Program to Display Fibonacci Sequence Using Recursion?"
   ]
  },
  {
   "cell_type": "code",
   "execution_count": 2,
   "id": "ba3f6b07-acf3-4f87-aa79-6d1bb454ae15",
   "metadata": {},
   "outputs": [
    {
     "name": "stdin",
     "output_type": "stream",
     "text": [
      "Enter the number of terms in the Fibonacci sequence:  4\n"
     ]
    },
    {
     "name": "stdout",
     "output_type": "stream",
     "text": [
      "Fibonacci sequence:\n",
      "0 1 1 2 "
     ]
    }
   ],
   "source": [
    "def fibonacci(n):\n",
    "    if n <= 1:\n",
    "        return n\n",
    "    else:\n",
    "        return fibonacci(n-1) + fibonacci(n-2)\n",
    "\n",
    "def display_fibonacci_sequence(count):\n",
    "    if count <= 0:\n",
    "        print(\"Please enter a positive integer.\")\n",
    "    else:\n",
    "        print(\"Fibonacci sequence:\")\n",
    "        for i in range(count):\n",
    "            print(fibonacci(i), end=\" \")\n",
    "\n",
    "terms = int(input(\"Enter the number of terms in the Fibonacci sequence: \"))\n",
    "display_fibonacci_sequence(terms)\n"
   ]
  },
  {
   "cell_type": "raw",
   "id": "bf0efeaa-49c1-4baa-aba3-f492a8a5b1c3",
   "metadata": {},
   "source": [
    "2.Write a Python Program to Find Factorial of Number Using Recursion?"
   ]
  },
  {
   "cell_type": "code",
   "execution_count": 3,
   "id": "84dfdd7a-d794-4de2-a80d-5904c1d2d401",
   "metadata": {},
   "outputs": [
    {
     "name": "stdin",
     "output_type": "stream",
     "text": [
      "Enter a number to find its factorial:  3\n"
     ]
    },
    {
     "name": "stdout",
     "output_type": "stream",
     "text": [
      "Factorial of 3 is 6\n"
     ]
    }
   ],
   "source": [
    "def factorial(n):\n",
    "    if n == 0:\n",
    "        return 1\n",
    "    else:\n",
    "        return n * factorial(n-1)\n",
    "\n",
    "num = int(input(\"Enter a number to find its factorial: \"))\n",
    "\n",
    "if num < 0:\n",
    "    print(\"Factorial is not defined for negative numbers.\")\n",
    "elif num == 0:\n",
    "    print(\"Factorial of 0 is 1\")\n",
    "else:\n",
    "    print(\"Factorial of\", num, \"is\", factorial(num))\n"
   ]
  },
  {
   "cell_type": "raw",
   "id": "80deded4-7f43-46ca-abcb-a86eb73852b5",
   "metadata": {},
   "source": [
    "3.Write a Python Program to calculate your Body Mass Index?"
   ]
  },
  {
   "cell_type": "code",
   "execution_count": null,
   "id": "9a931486-76f8-4aef-9315-23666f5f633a",
   "metadata": {},
   "outputs": [],
   "source": [
    "def calculate_bmi(weight, height):\n",
    "    return weight / (height ** 2)\n",
    "\n",
    "weight = float(input(\"Enter your weight in kilograms: \"))\n",
    "height = float(input(\"Enter your height in meters: \"))\n",
    "\n",
    "bmi = calculate_bmi(weight, height)\n",
    "print(\"Your Body Mass Index (BMI) is:\", bmi)\n"
   ]
  },
  {
   "cell_type": "raw",
   "id": "08145982-fe4c-4862-a8a1-0490bf63b203",
   "metadata": {},
   "source": [
    "4.Write a Python Program to calculate the natural logarithm of any number?"
   ]
  },
  {
   "cell_type": "code",
   "execution_count": 4,
   "id": "29253b11-e4d7-42ee-9f3e-94744b08bece",
   "metadata": {},
   "outputs": [
    {
     "name": "stdin",
     "output_type": "stream",
     "text": [
      "Enter a number:  45\n"
     ]
    },
    {
     "name": "stdout",
     "output_type": "stream",
     "text": [
      "The natural logarithm of 45.0 is: 3.8066624897703196\n"
     ]
    }
   ],
   "source": [
    "import math\n",
    "\n",
    "def calculate_logarithm(number):\n",
    "    return math.log(number)\n",
    "\n",
    "number = float(input(\"Enter a number: \"))\n",
    "\n",
    "if number <= 0:\n",
    "    print(\"Error: Natural logarithm is undefined for non-positive numbers.\")\n",
    "else:\n",
    "    result = calculate_logarithm(number)\n",
    "    print(f\"The natural logarithm of {number} is: {result}\")\n"
   ]
  },
  {
   "cell_type": "raw",
   "id": "ada34d1c-bb12-4317-b1ff-15aec431c44a",
   "metadata": {},
   "source": [
    "5.Write a Python Program for cube sum of first n natural numbers?"
   ]
  },
  {
   "cell_type": "code",
   "execution_count": 5,
   "id": "bbb1fd7e-58d0-41e5-b48d-fcaae46b8242",
   "metadata": {},
   "outputs": [
    {
     "name": "stdin",
     "output_type": "stream",
     "text": [
      "Enter the value of n:  45\n"
     ]
    },
    {
     "name": "stdout",
     "output_type": "stream",
     "text": [
      "The cube sum of the first 45 natural numbers is: 1071225\n"
     ]
    }
   ],
   "source": [
    "def cube_sum(n):\n",
    "    return (n * (n + 1) // 2) ** 2\n",
    "\n",
    "n = int(input(\"Enter the value of n: \"))\n",
    "\n",
    "result = cube_sum(n)\n",
    "print(\"The cube sum of the first\", n, \"natural numbers is:\", result)\n"
   ]
  },
  {
   "cell_type": "code",
   "execution_count": null,
   "id": "2c1d95d5-8e0c-4688-a00b-9c84381703f8",
   "metadata": {},
   "outputs": [],
   "source": []
  }
 ],
 "metadata": {
  "kernelspec": {
   "display_name": "Python 3 (ipykernel)",
   "language": "python",
   "name": "python3"
  },
  "language_info": {
   "codemirror_mode": {
    "name": "ipython",
    "version": 3
   },
   "file_extension": ".py",
   "mimetype": "text/x-python",
   "name": "python",
   "nbconvert_exporter": "python",
   "pygments_lexer": "ipython3",
   "version": "3.12.2"
  }
 },
 "nbformat": 4,
 "nbformat_minor": 5
}
