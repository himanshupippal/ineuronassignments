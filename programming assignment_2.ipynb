{
 "cells": [
  {
   "cell_type": "code",
   "execution_count": 1,
   "id": "5614d0fc-3ac1-4484-8364-ac9e1a68d224",
   "metadata": {},
   "outputs": [],
   "source": [
    "# 1.\tWrite a Python program to convert kilometers to miles?\n",
    "# 2.\tWrite a Python program to convert Celsius to Fahrenheit?\n",
    "# 3.\tWrite a Python program to display calendar?\n",
    "# 4.\tWrite a Python program to solve quadratic equation?\n",
    "# 5.\tWrite a Python program to swap two variables without temp variable?\n",
    "\n"
   ]
  },
  {
   "cell_type": "code",
   "execution_count": 5,
   "id": "61050fad-6732-43fc-b939-1af73c61bad7",
   "metadata": {},
   "outputs": [
    {
     "name": "stdin",
     "output_type": "stream",
     "text": [
      "enter you kilometers 3\n"
     ]
    },
    {
     "name": "stdout",
     "output_type": "stream",
     "text": [
      "3 kilometers equal to 1.875 miles\n"
     ]
    }
   ],
   "source": [
    "km =int(input(\"enter you kilometers\"))\n",
    "mile = km/1.6\n",
    "print(f\"{km} kilometers equal to {mile} miles\")"
   ]
  },
  {
   "cell_type": "code",
   "execution_count": 12,
   "id": "dcd6d07a-dbac-4e36-a14a-17a58fc8da73",
   "metadata": {},
   "outputs": [
    {
     "name": "stdin",
     "output_type": "stream",
     "text": [
      "enter celsius 1\n"
     ]
    },
    {
     "name": "stdout",
     "output_type": "stream",
     "text": [
      "1 Celsius equal to 33.8 Fahrenheit\n"
     ]
    }
   ],
   "source": [
    "cel= int(input(\"enter celsius\"))\n",
    "fahn = (cel * 9/5) + 32\n",
    "print(f\"{cel} Celsius equal to {fahn} Fahrenheit\")"
   ]
  },
  {
   "cell_type": "code",
   "execution_count": 21,
   "id": "df1ffd1c-3e84-42dc-aded-8b76b3bb0108",
   "metadata": {},
   "outputs": [
    {
     "name": "stdin",
     "output_type": "stream",
     "text": [
      "Enter the coefficient 'a':  2\n",
      "Enter the coefficient 'b':  3\n",
      "Enter the coefficient 'c':  4\n"
     ]
    },
    {
     "name": "stdout",
     "output_type": "stream",
     "text": [
      "The quadratic equation has two complex roots: x1 = (-0.75+1.1989578808281798j), x2 = (-0.75-1.1989578808281798j)\n"
     ]
    }
   ],
   "source": [
    "import cmath\n",
    "\n",
    "def solve_quadratic_equation(a, b, c):\n",
    "    # Calculate the discriminant\n",
    "    discriminant = b**2 - 4*a*c\n",
    "\n",
    "    # Check if the discriminant is positive, zero, or negative\n",
    "    if discriminant == 0:\n",
    "        # One real root\n",
    "        root1 = root2 = -b / (2*a)\n",
    "        print(f\"The quadratic equation has one real root: x = {root1}\")\n",
    "    elif discriminant > 0:\n",
    "        # Two real roots\n",
    "        root1 = (-b + cmath.sqrt(discriminant)) / (2*a)\n",
    "        root2 = (-b - cmath.sqrt(discriminant)) / (2*a)\n",
    "        print(f\"The quadratic equation has two real roots: x1 = {root1}, x2 = {root2}\")\n",
    "    else:\n",
    "        # Two complex roots\n",
    "        real_part = -b / (2*a)\n",
    "        imaginary_part = cmath.sqrt(abs(discriminant)) / (2*a)\n",
    "        root1 = complex(real_part, imaginary_part)\n",
    "        root2 = complex(real_part, -imaginary_part)\n",
    "        print(f\"The quadratic equation has two complex roots: x1 = {root1}, x2 = {root2}\")\n",
    "\n",
    "if __name__ == \"__main__\":\n",
    "    try:\n",
    "        a = float(input(\"Enter the coefficient 'a': \"))\n",
    "        b = float(input(\"Enter the coefficient 'b': \"))\n",
    "        c = float(input(\"Enter the coefficient 'c': \"))\n",
    "\n",
    "        if a == 0:\n",
    "            print(\"Coefficient 'a' cannot be zero. It should be a non-zero value.\")\n",
    "        else:\n",
    "            solve_quadratic_equation(a, b, c)\n",
    "    except ValueError:\n",
    "        print(\"Invalid input. Please enter valid numeric values for coefficients 'a', 'b', and 'c'.\")\n"
   ]
  },
  {
   "cell_type": "code",
   "execution_count": 20,
   "id": "98781b08-076f-4939-9516-46b8cb4028b7",
   "metadata": {},
   "outputs": [
    {
     "name": "stdin",
     "output_type": "stream",
     "text": [
      "Enter the year:  0\n",
      "Enter the month (1-12):  0\n"
     ]
    },
    {
     "name": "stdout",
     "output_type": "stream",
     "text": [
      "Invalid month input. Please enter a value between 1 and 12.\n"
     ]
    }
   ],
   "source": [
    "import calendar\n",
    "\n",
    "def display_calendar(year, month):\n",
    "    cal = calendar.monthcalendar(year, month)\n",
    "    month_name = calendar.month_name[month]\n",
    "    year_str = str(year)\n",
    "\n",
    "    print(f\"Calendar for {month_name} {year_str}\\n\")\n",
    "    print(\" Mo Tu We Th Fr Sa Su\")\n",
    "\n",
    "    for week in cal:\n",
    "        week_str = \"\"\n",
    "        for day in week:\n",
    "            if day == 0:\n",
    "                week_str += \"   \"\n",
    "            else:\n",
    "                week_str += f\"{day:2d} \"\n",
    "        print(week_str)\n",
    "\n",
    "if __name__ == \"__main__\":\n",
    "    try:\n",
    "        year = int(input(\"Enter the year: \"))\n",
    "        month = int(input(\"Enter the month (1-12): \"))\n",
    "\n",
    "        if 1 <= month <= 12:\n",
    "            display_calendar(year, month)\n",
    "        else:\n",
    "            print(\"Invalid month input. Please enter a value between 1 and 12.\")\n",
    "    except ValueError:\n",
    "        print(\"Invalid input. Please enter valid integer values for year and month.\")\n"
   ]
  },
  {
   "cell_type": "code",
   "execution_count": 15,
   "id": "55acba95-88fb-4c29-9a4b-2e40f74f2b64",
   "metadata": {},
   "outputs": [
    {
     "name": "stdout",
     "output_type": "stream",
     "text": [
      "5 4\n"
     ]
    }
   ],
   "source": [
    "a=4\n",
    "b=5\n",
    "a,b=b,a\n",
    "print(a,b)"
   ]
  }
 ],
 "metadata": {
  "kernelspec": {
   "display_name": "Python 3 (ipykernel)",
   "language": "python",
   "name": "python3"
  },
  "language_info": {
   "codemirror_mode": {
    "name": "ipython",
    "version": 3
   },
   "file_extension": ".py",
   "mimetype": "text/x-python",
   "name": "python",
   "nbconvert_exporter": "python",
   "pygments_lexer": "ipython3",
   "version": "3.10.6"
  }
 },
 "nbformat": 4,
 "nbformat_minor": 5
}
