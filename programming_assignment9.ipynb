{
 "cells": [
  {
   "cell_type": "raw",
   "id": "6d4b6499-b526-47fa-a4f2-e2f5ba9e6661",
   "metadata": {},
   "source": [
    "1.Write a Python program to check if the given number is a Disarium Number?"
   ]
  },
  {
   "cell_type": "code",
   "execution_count": 19,
   "id": "9177629c-a89a-46e7-bb29-dca8cc9feb4d",
   "metadata": {},
   "outputs": [
    {
     "name": "stdout",
     "output_type": "stream",
     "text": [
      "True\n"
     ]
    }
   ],
   "source": [
    "def Disarium(n):\n",
    "    num_str = str(n)\n",
    "    total = sum( int(i)**(index+1)for index,i in enumerate(num_str))\n",
    "    return total==n\n",
    "\n",
    "print(Disarium(135))"
   ]
  },
  {
   "cell_type": "raw",
   "id": "c331cdee-0c5c-49a0-9747-0a10e42caddc",
   "metadata": {},
   "source": [
    "2. Write a Python program to print all disarium numbers between 1 to 100?"
   ]
  },
  {
   "cell_type": "code",
   "execution_count": 22,
   "id": "ace40333-1526-4754-bb48-77c75f48951f",
   "metadata": {},
   "outputs": [
    {
     "name": "stdout",
     "output_type": "stream",
     "text": [
      "[0, 1, 2, 3, 4, 5, 6, 7, 8, 9, 89, 135]\n"
     ]
    }
   ],
   "source": [
    "def Disarium():\n",
    "    list=[]\n",
    "    for i in range(136):\n",
    "        num_str = str(i)\n",
    "        total = sum( int(i)**(index+1)for index,i in enumerate(num_str))\n",
    "        if total==i:\n",
    "            list.append(total)\n",
    "    return list\n",
    "\n",
    "print(Disarium())\n"
   ]
  },
  {
   "cell_type": "raw",
   "id": "5d763599-c544-4db1-97c2-51f47a9f4820",
   "metadata": {},
   "source": [
    "3. Write a Python program to check if the given number is Happy Number?"
   ]
  },
  {
   "cell_type": "code",
   "execution_count": 25,
   "id": "7f6f2f89-6527-4ed9-9dd7-5086e139544c",
   "metadata": {},
   "outputs": [
    {
     "name": "stdout",
     "output_type": "stream",
     "text": [
      "4 is a Happy Number\n"
     ]
    }
   ],
   "source": [
    "def is_happy_number(num):\n",
    "    def get_next(n):\n",
    "        total_sum = 0\n",
    "        while n > 0:\n",
    "            n, digit = divmod(n, 10)\n",
    "            total_sum += digit ** 2\n",
    "        return total_sum\n",
    "\n",
    "    seen = set()\n",
    "    while num != 1 and num not in seen:\n",
    "        seen.add(num)\n",
    "        num = get_next(num)\n",
    "\n",
    "    return num == 1\n",
    "\n",
    "is_happy_number(4)\n",
    "print(4, \"is a Happy Number\")\n",
    "\n"
   ]
  },
  {
   "cell_type": "raw",
   "id": "d5cc5f62-d443-41c2-a4e5-bbff70d87eb9",
   "metadata": {},
   "source": [
    "4. Write a Python program to print all happy numbers between 1 and 100?"
   ]
  },
  {
   "cell_type": "code",
   "execution_count": 26,
   "id": "0e3921bd-77a7-416a-a8ec-b32125aa081f",
   "metadata": {},
   "outputs": [
    {
     "name": "stdout",
     "output_type": "stream",
     "text": [
      "Happy numbers between 1 and 100 are: [1, 7, 10, 13, 19, 23, 28, 31, 32, 44, 49, 68, 70, 79, 82, 86, 91, 94, 97, 100]\n"
     ]
    }
   ],
   "source": [
    "def is_happy_number(num):\n",
    "    def get_next(n):\n",
    "        total_sum = 0\n",
    "        while n > 0:\n",
    "            n, digit = divmod(n, 10)\n",
    "            total_sum += digit ** 2\n",
    "        return total_sum\n",
    "\n",
    "    seen = set()\n",
    "    while num != 1 and num not in seen:\n",
    "        seen.add(num)\n",
    "        num = get_next(num)\n",
    "\n",
    "    return num == 1\n",
    "\n",
    "def print_happy_numbers():\n",
    "    happy_numbers = []\n",
    "    for num in range(1, 101):\n",
    "        if is_happy_number(num):\n",
    "            happy_numbers.append(num)\n",
    "    return happy_numbers\n",
    "\n",
    "print(\"Happy numbers between 1 and 100 are:\", print_happy_numbers())\n"
   ]
  },
  {
   "cell_type": "raw",
   "id": "5b23df65-33ef-46b7-8d72-e718445b32fe",
   "metadata": {},
   "source": [
    "5. Write a Python program to determine whether the given number is a Harshad Number?"
   ]
  },
  {
   "cell_type": "code",
   "execution_count": null,
   "id": "742a274b-2a89-4fa3-96c0-76c8f6bf7463",
   "metadata": {},
   "outputs": [],
   "source": [
    "def is_harshad_number(num):\n",
    "    num_str = str(num)\n",
    "    digit_sum = sum(int(digit) for digit in num_str)\n",
    "    return num % digit_sum == 0\n",
    "\n",
    "num = int(input(\"Enter a number to check if it's a Harshad Number: \"))\n",
    "if is_harshad_number(num):\n",
    "    print(num, \"is a Harshad Number\")\n",
    "else:\n",
    "    print(num, \"is not a Harshad Number\")\n"
   ]
  },
  {
   "cell_type": "code",
   "execution_count": null,
   "id": "52351ef1-0195-4f1e-9b44-276121811e3c",
   "metadata": {},
   "outputs": [],
   "source": []
  }
 ],
 "metadata": {
  "kernelspec": {
   "display_name": "Python 3 (ipykernel)",
   "language": "python",
   "name": "python3"
  },
  "language_info": {
   "codemirror_mode": {
    "name": "ipython",
    "version": 3
   },
   "file_extension": ".py",
   "mimetype": "text/x-python",
   "name": "python",
   "nbconvert_exporter": "python",
   "pygments_lexer": "ipython3",
   "version": "3.12.2"
  }
 },
 "nbformat": 4,
 "nbformat_minor": 5
}
