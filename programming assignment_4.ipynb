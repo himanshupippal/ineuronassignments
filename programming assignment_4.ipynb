{
 "cells": [
  {
   "cell_type": "code",
   "execution_count": 1,
   "id": "3593e6a3-006b-4ef8-9823-f2bd28f992f7",
   "metadata": {},
   "outputs": [],
   "source": [
    "# 1.\tWrite a Python Program to Find the Factorial of a Number?\n",
    "# 2.\tWrite a Python Program to Display the multiplication Table?\n",
    "# 3.\tWrite a Python Program to Print the Fibonacci sequence?\n",
    "# 4.\tWrite a Python Program to Check Armstrong Number?\n",
    "# 5.\tWrite a Python Program to Find Armstrong Number in an Interval?\n",
    "# 6.\tWrite a Python Program to Find the Sum of Natural Numbers?\n"
   ]
  },
  {
   "cell_type": "code",
   "execution_count": 2,
   "id": "0e2c6eb1-b44b-4c15-9c42-d24edd887c45",
   "metadata": {},
   "outputs": [
    {
     "data": {
      "text/plain": [
       "24"
      ]
     },
     "execution_count": 2,
     "metadata": {},
     "output_type": "execute_result"
    }
   ],
   "source": [
    "# 1.\tWrite a Python Program to Find the Factorial of a Number?\n",
    "def fact(num):\n",
    "    if num==0:\n",
    "        return 1\n",
    "    else:\n",
    "        return num*fact(num-1)\n",
    "fact(4)"
   ]
  },
  {
   "cell_type": "code",
   "execution_count": 4,
   "id": "29eb36d2-c7f6-478b-9dd7-2674b85a17be",
   "metadata": {},
   "outputs": [
    {
     "name": "stdin",
     "output_type": "stream",
     "text": [
      "Enter the number for the multiplication table:  4\n",
      "Enter the limit of the table:  10\n"
     ]
    },
    {
     "name": "stdout",
     "output_type": "stream",
     "text": [
      "4 x 1 = 4\n",
      "4 x 2 = 8\n",
      "4 x 3 = 12\n",
      "4 x 4 = 16\n",
      "4 x 5 = 20\n",
      "4 x 6 = 24\n",
      "4 x 7 = 28\n",
      "4 x 8 = 32\n",
      "4 x 9 = 36\n",
      "4 x 10 = 40\n"
     ]
    }
   ],
   "source": [
    "# 2.\tWrite a Python Program to Display the multiplication Table?\n",
    "def multi_table(number, limit):\n",
    "    for i in range(1, limit + 1):\n",
    "        result = number * i\n",
    "        print(f\"{number} x {i} = {result}\")\n",
    "\n",
    "if __name__ == \"__main__\":\n",
    "        number = int(input(\"Enter the number for the multiplication table: \"))\n",
    "        limit = int(input(\"Enter the limit of the table: \"))\n",
    "        multi_table(number, limit)\n"
   ]
  },
  {
   "cell_type": "code",
   "execution_count": 9,
   "id": "d026bfb7-f32d-4bec-b583-4445b308561d",
   "metadata": {},
   "outputs": [
    {
     "data": {
      "text/plain": [
       "[0, 1, 1, 2, 3, 5, 8, 13, 21, 34]"
      ]
     },
     "execution_count": 9,
     "metadata": {},
     "output_type": "execute_result"
    }
   ],
   "source": [
    "# 3.\tWrite a Python Program to Print the Fibonacci sequence?\n",
    "def fabb(num):\n",
    "    list1=[0,1]\n",
    "    if (num==0) or(num==1):\n",
    "        return list1[0]\n",
    "    elif num==2:\n",
    "        return list1\n",
    "    else:\n",
    "        for i in range(num-2):\n",
    "            list1=list1+[list1[i]+list1[i+1]]\n",
    "        return list1\n",
    "        \n",
    "fabb(10)"
   ]
  },
  {
   "cell_type": "code",
   "execution_count": 25,
   "id": "83ee63f4-ac68-4b42-8915-5bed957e85c5",
   "metadata": {},
   "outputs": [
    {
     "name": "stdin",
     "output_type": "stream",
     "text": [
      "enter a number 371\n"
     ]
    },
    {
     "name": "stdout",
     "output_type": "stream",
     "text": [
      "True\n"
     ]
    }
   ],
   "source": [
    "# 4.\tWrite a Python Program to Check Armstrong Number?\n",
    "def armst(num):\n",
    "    s=str(num)\n",
    "    l= len(str(s))\n",
    "    sum1=0\n",
    "    for i in s:\n",
    "        sum1+= int(i)**l\n",
    "    if sum1==num:\n",
    "        return True\n",
    "    else:\n",
    "        return False\n",
    "    \n",
    "if __name__ == \"__main__\":\n",
    "    num = int(input(\"enter a number\"))\n",
    "    print(armst(num))\n",
    "    "
   ]
  },
  {
   "cell_type": "code",
   "execution_count": 30,
   "id": "89b34404-1b5f-4c9f-85bd-873947ea2864",
   "metadata": {},
   "outputs": [
    {
     "name": "stdin",
     "output_type": "stream",
     "text": [
      "enter a number 300\n",
      "enter a number 500\n"
     ]
    },
    {
     "name": "stdout",
     "output_type": "stream",
     "text": [
      "370\n",
      "371\n",
      "407\n"
     ]
    }
   ],
   "source": [
    "# 5.\tWrite a Python Program to Find Armstrong Number in an Interval?\n",
    "def armst(num):\n",
    "    s=str(num)\n",
    "    l= len(str(s))\n",
    "    sum1=0\n",
    "    for i in s:\n",
    "        sum1+= int(i)**l\n",
    "    if sum1==num:\n",
    "        return True\n",
    "    else:\n",
    "        return False\n",
    "    \n",
    "def allarmst(start,end):\n",
    "    for i in range(start,end+1):\n",
    "        if armst(i):\n",
    "            print(i)\n",
    "    \n",
    "if __name__ == \"__main__\":\n",
    "    start = int(input(\"enter a number\"))\n",
    "    end= int(input(\"enter a number\"))\n",
    "    allarmst(start,end)\n",
    "    \n",
    "    "
   ]
  },
  {
   "cell_type": "code",
   "execution_count": 31,
   "id": "348b1a6c-8c4e-4c6e-a30c-c747c42e7a14",
   "metadata": {},
   "outputs": [
    {
     "name": "stdout",
     "output_type": "stream",
     "text": [
      "55\n"
     ]
    }
   ],
   "source": [
    "# 6.\tWrite a Python Program to Find the Sum of Natural Numbers?\n",
    "def sum_of_natural_numbers(n):\n",
    "    if n < 0:\n",
    "        return \"Please enter a positive integer.\"\n",
    "    sum_total = 0\n",
    "    for i in range(1, n + 1):\n",
    "        sum_total += i\n",
    "    return sum_total\n",
    "print(sum_of_natural_numbers(10))\n"
   ]
  }
 ],
 "metadata": {
  "kernelspec": {
   "display_name": "Python 3 (ipykernel)",
   "language": "python",
   "name": "python3"
  },
  "language_info": {
   "codemirror_mode": {
    "name": "ipython",
    "version": 3
   },
   "file_extension": ".py",
   "mimetype": "text/x-python",
   "name": "python",
   "nbconvert_exporter": "python",
   "pygments_lexer": "ipython3",
   "version": "3.10.6"
  }
 },
 "nbformat": 4,
 "nbformat_minor": 5
}
