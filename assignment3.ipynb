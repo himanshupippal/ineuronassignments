{
 "cells": [
  {
   "cell_type": "markdown",
   "id": "13fcc265-cd6e-4927-a93e-c83bf7fab858",
   "metadata": {},
   "source": [
    "1. Why are functions advantageous to have in your programs?"
   ]
  },
  {
   "cell_type": "markdown",
   "id": "4fc6f6d0-e445-4a1e-a7c4-fe385e29fe11",
   "metadata": {},
   "source": [
    "Ans 1.   because Functions reduce the need for duplicate code. This makes programs shorter, easier to read, and easier to update."
   ]
  },
  {
   "cell_type": "markdown",
   "id": "b3930016-75ef-4f5e-b073-5c240b50e9e0",
   "metadata": {},
   "source": [
    "2. When does the code in a function run: when it's specified or when it's called?\n",
    "\n",
    "Ans2. The code in a function executes when the function is called, not when the function is defined."
   ]
  },
  {
   "cell_type": "markdown",
   "id": "62f055b9-e440-4de3-b0cd-4d47d4efd402",
   "metadata": {},
   "source": [
    "3. What statement creates a function?\n",
    "\n",
    "Ans3.  def funcname(args):"
   ]
  },
  {
   "cell_type": "markdown",
   "id": "306507e2-c048-44bc-8fe7-96a852ec0505",
   "metadata": {},
   "source": [
    "4. What is the difference between a function and a function call?\n",
    "\n",
    "Ans4. A function is a piece of code which enhanced the reusability and modularity of your program. It means that piece of code need not be written again. A function call means invoking or calling that function. Unless a function is called there is no use of that function.\n"
   ]
  },
  {
   "cell_type": "markdown",
   "id": "68cd3171-e237-4dc2-9e50-62ad036ba16a",
   "metadata": {},
   "source": [
    "5. How many global scopes are there in a Python program? How many local scopes?\n",
    "\n",
    "Ans 5. There's only one global Python scope per program execution. This scope remains in existence until the program terminates and all its names are forgotten. Otherwise, the next time you were to run the program, the names would remember their values from the previous run."
   ]
  },
  {
   "cell_type": "markdown",
   "id": "61e25b7a-5605-419f-a47e-0dfcce09e7f9",
   "metadata": {},
   "source": [
    "6. What happens to variables in a local scope when the function call returns?\n",
    "\n",
    "Ans 6. When the execution of the function terminates (returns), the local variables are destroyed."
   ]
  },
  {
   "cell_type": "markdown",
   "id": "f8a96098-fca5-4d42-a0fe-a03722c322fe",
   "metadata": {},
   "source": [
    "7. What is the concept of a return value? Is it possible to have a return value in an expression?\n",
    "\n",
    "Ans 7. return statement is a special statement that you can use inside a function or method to send the function's result back to the caller. A return statement consists of the return keyword followed by an optional return value. The return value of a Python function can be any Python object"
   ]
  },
  {
   "cell_type": "markdown",
   "id": "79aef3d8-52f7-4231-a00c-751208b7801f",
   "metadata": {},
   "source": [
    "8. If a function does not have a return statement, what is the return value of a call to that function?\n",
    "\n",
    "Ans 8. If no return statement appears in a function definition, control automatically returns to the calling function after the last statement of the called function is executed. In this case, the return value of the called function is undefined."
   ]
  },
  {
   "cell_type": "markdown",
   "id": "acc8b30f-37d3-4dec-bfd2-c0b689e61fb5",
   "metadata": {},
   "source": [
    "9. How do you make a function variable refer to the global variable?\n",
    "\n",
    "Ans 9. when you create a variable inside a function, that variable is local, and can only be used inside that function. To create a global variable inside a function, you can use the global keyword."
   ]
  },
  {
   "cell_type": "markdown",
   "id": "8c0bbbff-3285-4b5b-9807-b1a3c03f7ead",
   "metadata": {},
   "source": [
    "10. What is the data type of None?\n",
    "\n",
    "Ans 10. None is a data type of its own (NoneType) and only None can be None."
   ]
  },
  {
   "cell_type": "markdown",
   "id": "8f792d73-dd37-4621-987f-08cde74f0d77",
   "metadata": {},
   "source": [
    "11. What does the sentence import are all your pets named eric do?\n",
    "\n",
    "Ans 11. import eric"
   ]
  },
  {
   "cell_type": "markdown",
   "id": "04e2eae4-3836-4739-994e-51a4d8b59b75",
   "metadata": {},
   "source": [
    "12. If you had a bacon() feature in a spam module, what would you call it after importing spam?\n",
    "\n",
    "Ans 12. spam.bacon()"
   ]
  },
  {
   "cell_type": "markdown",
   "id": "e4f8ae31-2253-4b29-86c3-a8e6c7dadd28",
   "metadata": {},
   "source": [
    "13. What can you do to save a programme from crashing if it encounters an error?\n",
    "\n",
    "Ans 13. error handling can be used to notify the user of why the error occurred and gracefully exit the process that caused the error.\n"
   ]
  },
  {
   "cell_type": "markdown",
   "id": "cad679b8-4ddd-4de0-a80d-1e4c48663972",
   "metadata": {},
   "source": [
    "14. What is the purpose of the try clause? What is the purpose of the except clause?\n",
    "\n",
    "Ans 14. The try block lets you test a block of code for errors. The except block lets you handle the error."
   ]
  },
  {
   "cell_type": "code",
   "execution_count": null,
   "id": "3d399eb5-9b34-4218-895a-fbf62800db16",
   "metadata": {},
   "outputs": [],
   "source": []
  }
 ],
 "metadata": {
  "kernelspec": {
   "display_name": "Python 3 (ipykernel)",
   "language": "python",
   "name": "python3"
  },
  "language_info": {
   "codemirror_mode": {
    "name": "ipython",
    "version": 3
   },
   "file_extension": ".py",
   "mimetype": "text/x-python",
   "name": "python",
   "nbconvert_exporter": "python",
   "pygments_lexer": "ipython3",
   "version": "3.10.6"
  }
 },
 "nbformat": 4,
 "nbformat_minor": 5
}
