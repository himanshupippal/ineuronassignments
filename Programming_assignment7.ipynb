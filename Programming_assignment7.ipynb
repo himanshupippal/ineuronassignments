{
 "cells": [
  {
   "cell_type": "raw",
   "id": "bdc7683b-089c-4d4e-b4f6-a36117205885",
   "metadata": {},
   "source": [
    "1. Write a Python Program to find sum of array?"
   ]
  },
  {
   "cell_type": "code",
   "execution_count": 4,
   "id": "7ba9b752-e886-49e0-a894-6d1c489f8c7f",
   "metadata": {},
   "outputs": [
    {
     "name": "stdout",
     "output_type": "stream",
     "text": [
      "21\n"
     ]
    }
   ],
   "source": [
    "def arraysum(arr):\n",
    "    sum=0\n",
    "    for i in arr:\n",
    "        sum+=i\n",
    "    return sum\n",
    "\n",
    "arr=[1,2,3,4,5,6]\n",
    "print(arraysum(arr))"
   ]
  },
  {
   "cell_type": "raw",
   "id": "4a6ccf9f-cebe-4776-a618-cb9dd2a7e4a0",
   "metadata": {},
   "source": [
    "2.Write a Python Program to find largest element in an array?"
   ]
  },
  {
   "cell_type": "code",
   "execution_count": 6,
   "id": "6270812f-18c9-48fe-b099-c6c1047311c6",
   "metadata": {},
   "outputs": [
    {
     "name": "stdout",
     "output_type": "stream",
     "text": [
      "53\n"
     ]
    }
   ],
   "source": [
    "def largest(arr):\n",
    "    return max(arr)\n",
    "\n",
    "print(largest([1,2,4,53,7,7]))"
   ]
  },
  {
   "cell_type": "raw",
   "id": "b1e6e897-9ac6-4d73-b8d6-f941ee1dbb61",
   "metadata": {},
   "source": [
    "3. Write a Python Program for array rotation?"
   ]
  },
  {
   "cell_type": "code",
   "execution_count": 13,
   "id": "ab695631-7910-4d44-81a7-a10511099edc",
   "metadata": {},
   "outputs": [
    {
     "name": "stdout",
     "output_type": "stream",
     "text": [
      "[7, 7, 53, 4, 2, 1]\n"
     ]
    }
   ],
   "source": [
    "def rot(arr):\n",
    "    arr.reverse()\n",
    "    return arr\n",
    "print(rot([1,2,4,53,7,7]))"
   ]
  },
  {
   "cell_type": "raw",
   "id": "b893a750-28e6-4c30-9bf5-89e8d2c0ac86",
   "metadata": {},
   "source": [
    "4. Write a Python Program to Split the array and add the first part to the end?"
   ]
  },
  {
   "cell_type": "code",
   "execution_count": 14,
   "id": "a1aae2f2-6994-4f2f-a163-a0233b3c40a0",
   "metadata": {},
   "outputs": [
    {
     "name": "stdout",
     "output_type": "stream",
     "text": [
      "Original Array: [1, 2, 3, 4, 5]\n",
      "Array after splitting and adding the first part to the end: [3, 4, 5, 1, 2]\n"
     ]
    }
   ],
   "source": [
    "def split_and_add(arr, n):\n",
    "    if n <= len(arr):\n",
    "        front_slice = arr[:n]\n",
    "        arr = arr[n:] + front_slice\n",
    "    return arr\n",
    "arr = [1, 2, 3, 4, 5]\n",
    "n = 2\n",
    "result = split_and_add(arr, n)\n",
    "print(\"Original Array:\", arr)\n",
    "print(\"Array after splitting and adding the first part to the end:\", result)\n"
   ]
  },
  {
   "cell_type": "raw",
   "id": "e0a724e8-a916-4ca3-9614-3147554b9faf",
   "metadata": {},
   "source": [
    "5. Write a Python Program to check if given array is Monotonic?"
   ]
  },
  {
   "cell_type": "code",
   "execution_count": 16,
   "id": "c77fba0a-5fa4-484e-bf6a-6f85b3cfe9dd",
   "metadata": {},
   "outputs": [
    {
     "name": "stdout",
     "output_type": "stream",
     "text": [
      "Is arr1 monotonic? True\n"
     ]
    }
   ],
   "source": [
    "def is_monotonic(arr):\n",
    "    increasing = decreasing = True\n",
    "\n",
    "    for i in range(1, len(arr)):\n",
    "        if arr[i] > arr[i - 1]:\n",
    "            decreasing = False\n",
    "        elif arr[i] < arr[i - 1]:\n",
    "            increasing = False\n",
    "    return increasing or decreasing\n",
    "\n",
    "arr1 = [1, 2, 3, 4, 5]\n",
    "arr2 = [5, 4, 3, 2, 1]\n",
    "arr3 = [1, 2, 2, 3, 4]\n",
    "\n",
    "print(\"Is arr1 monotonic?\", is_monotonic(arr1))\n",
    "\n"
   ]
  },
  {
   "cell_type": "code",
   "execution_count": null,
   "id": "574c26d4-81ee-4c4d-a418-92cb18a162ec",
   "metadata": {},
   "outputs": [],
   "source": []
  }
 ],
 "metadata": {
  "kernelspec": {
   "display_name": "Python 3 (ipykernel)",
   "language": "python",
   "name": "python3"
  },
  "language_info": {
   "codemirror_mode": {
    "name": "ipython",
    "version": 3
   },
   "file_extension": ".py",
   "mimetype": "text/x-python",
   "name": "python",
   "nbconvert_exporter": "python",
   "pygments_lexer": "ipython3",
   "version": "3.12.2"
  }
 },
 "nbformat": 4,
 "nbformat_minor": 5
}
